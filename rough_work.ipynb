{
 "cells": [
  {
   "cell_type": "code",
   "execution_count": 17,
   "metadata": {},
   "outputs": [],
   "source": [
    "import numpy as np\n",
    "import fractions\n",
    "np.set_printoptions(formatter={'all':lambda x: str(fractions.Fraction(x).limit_denominator())})"
   ]
  },
  {
   "cell_type": "code",
   "execution_count": 10,
   "metadata": {},
   "outputs": [
    {
     "data": {
      "text/plain": [
       "(array([6, 0, 0]),\n",
       " array([[1, 0],\n",
       "        [1, 1],\n",
       "        [1, 2]]),\n",
       " array([1, 1, 1]),\n",
       " array([0, 1, 2]))"
      ]
     },
     "execution_count": 10,
     "metadata": {},
     "output_type": "execute_result"
    }
   ],
   "source": [
    "X = np.array([6, 0, 0])\n",
    "b1 = np.array([1, 1, 1])\n",
    "b2 = np.array([0, 1, 2])\n",
    "B = np.array([[1, 0],[1, 1], [1, 2]])\n",
    "X, B, b1, b2"
   ]
  },
  {
   "cell_type": "code",
   "execution_count": 12,
   "metadata": {},
   "outputs": [
    {
     "data": {
      "text/plain": [
       "array([ 5.,  2., -1.])"
      ]
     },
     "execution_count": 12,
     "metadata": {},
     "output_type": "execute_result"
    }
   ],
   "source": [
    "pux = (B @ np.linalg.inv(B.T @ B) @ B.T @ X)\n",
    "pux"
   ]
  },
  {
   "cell_type": "code",
   "execution_count": 18,
   "metadata": {},
   "outputs": [
    {
     "data": {
      "text/plain": [
       "array([[5/6, 1/3, -1/6],\n",
       "       [1/3, 1/3, 1/3],\n",
       "       [-1/6, 1/3, 5/6]])"
      ]
     },
     "execution_count": 18,
     "metadata": {},
     "output_type": "execute_result"
    }
   ],
   "source": [
    "pmat = (B @ np.linalg.inv(B.T @ B) @ B.T)\n",
    "pmat"
   ]
  },
  {
   "cell_type": "code",
   "execution_count": 20,
   "metadata": {},
   "outputs": [
    {
     "data": {
      "text/plain": [
       "2"
      ]
     },
     "execution_count": 20,
     "metadata": {},
     "output_type": "execute_result"
    }
   ],
   "source": [
    "np.linalg.matrix_rank(pmat)"
   ]
  },
  {
   "cell_type": "code",
   "execution_count": 21,
   "metadata": {},
   "outputs": [
    {
     "data": {
      "text/plain": [
       "array([3, 2, 2])"
      ]
     },
     "execution_count": 21,
     "metadata": {},
     "output_type": "execute_result"
    }
   ],
   "source": [
    "X = np.array([3, 2, 2])\n",
    "B = np.array([[1, 0],[0,1],[0,1]])\n",
    "pux = (B @ np.linalg.inv(B.T @ B) @ B.T @ X)\n",
    "pux"
   ]
  },
  {
   "cell_type": "code",
   "execution_count": 28,
   "metadata": {},
   "outputs": [
    {
     "data": {
      "text/plain": [
       "array([10, 4, -2])"
      ]
     },
     "execution_count": 28,
     "metadata": {},
     "output_type": "execute_result"
    }
   ],
   "source": [
    "X = np.array([12, 0, 0])\n",
    "B = np.array([[1, 0],[1,1],[1,2]])\n",
    "pux = (B @ np.linalg.inv(B.T @ B) @ B.T @ X)\n",
    "pux"
   ]
  },
  {
   "cell_type": "code",
   "execution_count": null,
   "metadata": {},
   "outputs": [],
   "source": []
  }
 ],
 "metadata": {
  "kernelspec": {
   "display_name": "Python 3",
   "language": "python",
   "name": "python3"
  },
  "language_info": {
   "codemirror_mode": {
    "name": "ipython",
    "version": 3
   },
   "file_extension": ".py",
   "mimetype": "text/x-python",
   "name": "python",
   "nbconvert_exporter": "python",
   "pygments_lexer": "ipython3",
   "version": "3.11.6"
  }
 },
 "nbformat": 4,
 "nbformat_minor": 2
}
