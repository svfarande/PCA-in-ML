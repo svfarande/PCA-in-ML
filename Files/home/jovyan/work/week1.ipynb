{
 "cells": [
  {
   "cell_type": "markdown",
   "metadata": {},
   "source": [
    "# Week 1: Mean/Covariance of a data set and effect of a linear transformation\n",
    "\n",
    "In this week, we are going to investigate how the mean and (co)variance of a dataset changes\n",
    "when we apply affine transformation to the dataset."
   ]
  },
  {
   "cell_type": "markdown",
   "metadata": {},
   "source": [
    "## Learning objectives\n",
    "1. Get Farmiliar with basic programming using Python and Numpy/Scipy.\n",
    "2. Learn to appreciate implementing\n",
    "   functions to compute statistics of dataset in vectorized way.\n",
    "3. Understand the effects of affine transformations on a dataset.\n",
    "4. Understand the importance of testing in programming for machine learning."
   ]
  },
  {
   "cell_type": "markdown",
   "metadata": {},
   "source": [
    "First, let's import the packages that we will use for the week"
   ]
  },
  {
   "cell_type": "code",
   "execution_count": 1,
   "metadata": {
    "nbgrader": {
     "grade": false,
     "grade_id": "cell-ba51e43914fcac0f",
     "locked": true,
     "schema_version": 3,
     "solution": false,
     "task": false
    }
   },
   "outputs": [],
   "source": [
    "# PACKAGE: DO NOT EDIT\n",
    "import numpy as np\n",
    "import matplotlib\n",
    "import matplotlib.pyplot as plt\n",
    "matplotlib.style.use('fivethirtyeight')\n",
    "from sklearn.datasets import fetch_olivetti_faces\n",
    "import time\n",
    "import timeit\n",
    "%matplotlib inline"
   ]
  },
  {
   "cell_type": "markdown",
   "metadata": {},
   "source": [
    "Next, we are going to retrieve Olivetti faces dataset.\n",
    "\n",
    "When working with some datasets, before digging into further analysis, it is almost always\n",
    "useful to do a few things to understand your dataset. First of all, answer the following\n",
    "set of questions:\n",
    "\n",
    "1. What is the size of your dataset?\n",
    "2. What is the dimensionality of your data?\n",
    "\n",
    "The dataset we have are usually stored as 2D matrices, then it would be really important\n",
    "to know which dimension represents the dimension of the dataset, and which represents\n",
    "the data points in the dataset. \n",
    "\n",
    "__When you implement the functions for your assignment, make sure you read\n",
    "the docstring for what each dimension of your inputs represents the data points, and which \n",
    "represents the dimensions of the dataset!__"
   ]
  },
  {
   "cell_type": "code",
   "execution_count": 2,
   "metadata": {},
   "outputs": [
    {
     "name": "stdout",
     "output_type": "stream",
     "text": [
      "Shape of the faces dataset: (400, 4096)\n",
      "400 data points\n"
     ]
    }
   ],
   "source": [
    "## PLEASE DO NOT EDIT THIS CELL\n",
    "\n",
    "image_shape = (64, 64)\n",
    "# Load faces data\n",
    "dataset = fetch_olivetti_faces(data_home='./')\n",
    "faces = dataset.data\n",
    "\n",
    "print('Shape of the faces dataset: {}'.format(faces.shape))\n",
    "print('{} data points'.format(faces.shape[0]))"
   ]
  },
  {
   "cell_type": "markdown",
   "metadata": {},
   "source": [
    "When your dataset are images, it's a really good idea to see what they look like.\n",
    "\n",
    "One very\n",
    "convenient tool in Jupyter is the `interact` widget, which we use to visualize the images (faces). For more information on how to use interact, have a look at the documentation [here](http://ipywidgets.readthedocs.io/en/stable/examples/Using%20Interact.html)."
   ]
  },
  {
   "cell_type": "code",
   "execution_count": 3,
   "metadata": {
    "nbgrader": {
     "grade": false,
     "grade_id": "cell-5d4286bace914619",
     "locked": true,
     "schema_version": 3,
     "solution": false,
     "task": false
    }
   },
   "outputs": [],
   "source": [
    "## PLEASE DO NOT EDIT THIS CELL\n",
    "\n",
    "from ipywidgets import interact"
   ]
  },
  {
   "cell_type": "code",
   "execution_count": 4,
   "metadata": {},
   "outputs": [],
   "source": [
    "## PLEASE DO NOT EDIT THIS CELL\n",
    "\n",
    "def show_face(face):\n",
    "    plt.figure()\n",
    "    plt.imshow(face.reshape((64, 64)), cmap='gray')\n",
    "    plt.show()"
   ]
  },
  {
   "cell_type": "code",
   "execution_count": 20,
   "metadata": {},
   "outputs": [
    {
     "data": {
      "image/png": "[encoded data removed]",
      "text/plain": [
       "<Figure size 640x480 with 1 Axes>"
      ]
     },
     "metadata": {},
     "output_type": "display_data"
    }
   ],
   "source": [
    "show_face(faces[71])"
   ]
  },
  {
   "cell_type": "code",
   "execution_count": 5,
   "metadata": {},
   "outputs": [
    {
     "data": {
      "application/vnd.jupyter.widget-view+json": {
       "model_id": "7570a180ffdd4fc284a9ecc040f5821a",
       "version_major": 2,
       "version_minor": 0
      },
      "text/plain": [
       "interactive(children=(IntSlider(value=0, description='n', max=399), Output()), _dom_classes=('widget-interact'…"
      ]
     },
     "metadata": {},
     "output_type": "display_data"
    }
   ],
   "source": [
    "## PLEASE DO NOT EDIT THIS CELL\n",
    "\n",
    "@interact(n=(0, len(faces)-1))\n",
    "def display_faces(n=0):\n",
    "    plt.figure()\n",
    "    plt.imshow(faces[n].reshape((64, 64)), cmap='gray')\n",
    "    plt.show()"
   ]
  },
  {
   "cell_type": "markdown",
   "metadata": {},
   "source": [
    "The purpose of the following block is to compute the mean and covariance of a dataset of size (N,D), where N is the number of data points and D is the dimensionality of each data point."
   ]
  },
  {
   "cell_type": "markdown",
   "metadata": {},
   "source": [
    "## 1. Mean and Covariance of a Dataset"
   ]
  },
  {
   "cell_type": "code",
   "execution_count": 6,
   "metadata": {
    "nbgrader": {
     "grade": false,
     "grade_id": "cell-728bc0ba59095b9d",
     "locked": false,
     "schema_version": 3,
     "solution": true,
     "task": false
    }
   },
   "outputs": [],
   "source": [
    "# GRADED FUNCTION: DO NOT EDIT THIS LINE\n",
    "def mean_naive(X):\n",
    "    \"\"\"Compute the sample mean for a dataset by iterating over the dataset.\n",
    "    \n",
    "    Args:\n",
    "        X: `ndarray` of shape (N, D) representing the dataset. N \n",
    "        is the size of the dataset (the number of data points) \n",
    "        and D is the dimensionality of each data point.\n",
    "    Returns:\n",
    "        mean: `ndarray` of shape (D, ), the sample mean of the dataset `X`.\n",
    "    \"\"\"\n",
    "    # YOUR CODE HERE\n",
    "    ### Uncomment and edit the code below\n",
    "    # iterate over the dataset and compute the mean vector.\n",
    "    mean = np.zeros(X.shape[1])\n",
    "    for n in range(X.shape[0]):\n",
    "        # Update the mean vector\n",
    "        mean = mean + X[n]\n",
    "    return mean / X.shape[0]"
   ]
  },
  {
   "cell_type": "code",
   "execution_count": 7,
   "metadata": {
    "nbgrader": {
     "grade": true,
     "grade_id": "cell-614e7065499b92ad",
     "locked": true,
     "points": 0,
     "schema_version": 3,
     "solution": false,
     "task": false
    }
   },
   "outputs": [],
   "source": [
    "## PLEASE DO NOT EDIT THIS CELL\n",
    "\n",
    "from numpy.testing import assert_allclose\n",
    "\n",
    "# Test case 1\n",
    "X = np.array([[0., 1., 1.], \n",
    "              [1., 2., 1.]])\n",
    "expected_mean = np.array([0.5, 1.5, 1.])\n",
    "assert_allclose(mean_naive(X), expected_mean, rtol=1e-5)\n",
    "\n",
    "# Test case 2\n",
    "X = np.array([[0., 1., 0.], \n",
    "              [2., 3., 1.]])\n",
    "expected_mean = np.array([1., 2., 0.5])\n",
    "assert_allclose(mean_naive(X), expected_mean, rtol=1e-5)\n",
    "\n",
    "# Test covariance is zero\n",
    "X = np.array([[0., 1.], \n",
    "              [0., 1.]])\n",
    "expected_mean = np.array([0., 1.])\n",
    "assert_allclose(mean_naive(X), expected_mean, rtol=1e-5)"
   ]
  },
  {
   "cell_type": "code",
   "execution_count": 8,
   "metadata": {
    "nbgrader": {
     "grade": false,
     "grade_id": "cell-2e726e77148b84dc",
     "locked": false,
     "schema_version": 3,
     "solution": true,
     "task": false
    }
   },
   "outputs": [],
   "source": [
    "# GRADED FUNCTION: DO NOT EDIT THIS LINE\n",
    "def mean(X):\n",
    "    \"\"\"Compute the sample mean for a dataset.\n",
    "    \n",
    "    Args:\n",
    "        X: `ndarray` of shape (N, D) representing the dataset.\n",
    "        N is the size of the dataset (the number of data points) \n",
    "        and D is the dimensionality of each data point.\n",
    "        ndarray: ndarray with shape (D,), the sample mean of the dataset `X`.\n",
    "    \"\"\"\n",
    "    # YOUR CODE HERE\n",
    "    ### Uncomment and edit the code below\n",
    "    return np.mean(X, axis=0)"
   ]
  },
  {
   "cell_type": "code",
   "execution_count": 9,
   "metadata": {
    "nbgrader": {
     "grade": true,
     "grade_id": "cell-5e92c4f560e0a5b2",
     "locked": true,
     "points": 1,
     "schema_version": 3,
     "solution": false,
     "task": false
    }
   },
   "outputs": [],
   "source": [
    "## PLEASE DO NOT EDIT THIS CELL\n",
    "\n",
    "from numpy.testing import assert_allclose\n",
    "\n",
    "# Test case 1\n",
    "X = np.array([[0., 1., 1.], \n",
    "              [1., 2., 1.]])\n",
    "expected_mean = np.array([0.5, 1.5, 1.])\n",
    "assert_allclose(mean(X), expected_mean, rtol=1e-5)\n",
    "\n",
    "# Test case 2\n",
    "X = np.array([[0., 1., 0.], \n",
    "              [2., 3., 1.]])\n",
    "expected_mean = np.array([1., 2., 0.5])\n",
    "assert_allclose(mean(X), expected_mean, rtol=1e-5)\n",
    "\n",
    "# Test covariance is zero\n",
    "X = np.array([[0., 1.], \n",
    "              [0., 1.]])\n",
    "expected_mean = np.array([0., 1.])\n",
    "assert_allclose(mean(X), expected_mean, rtol=1e-5)\n",
    "\n",
    "### Some hidden tests below\n",
    "### ..."
   ]
  },
  {
   "cell_type": "code",
   "execution_count": 14,
   "metadata": {
    "nbgrader": {
     "grade": false,
     "grade_id": "cell-5bd3777835b3016d",
     "locked": false,
     "schema_version": 3,
     "solution": true,
     "task": false
    }
   },
   "outputs": [],
   "source": [
    "# GRADED FUNCTION: DO NOT EDIT THIS LINE\n",
    "def cov_naive(X):\n",
    "    \"\"\"Compute the sample covariance for a dataset by iterating over the dataset.\n",
    "    \n",
    "    Args:\n",
    "        X: `ndarray` of shape (N, D) representing the dataset. \n",
    "        N is the size of the dataset (the number of data points) \n",
    "        and D is the dimensionality of each data point.\n",
    "    Returns:\n",
    "        ndarray: ndarray with shape (D, D), the sample covariance of the dataset `X`.\n",
    "    \"\"\"\n",
    "    # YOUR CODE HERE\n",
    "    ### Uncomment and edit the code below\n",
    "    N, D = X.shape\n",
    "    ### Edit the code below to compute the covariance matrix by iterating over the dataset.\n",
    "    covariance = np.zeros((D, D))\n",
    "    ### Update covariance\n",
    "    mean_D = mean(X)\n",
    "    for n in range(0,N):\n",
    "        diff = np.asmatrix(X[n]-mean_D)\n",
    "        covariance += diff.T @ diff\n",
    "    covariance = covariance / N\n",
    "    ###\n",
    "    return covariance"
   ]
  },
  {
   "cell_type": "code",
   "execution_count": 15,
   "metadata": {
    "nbgrader": {
     "grade": true,
     "grade_id": "cell-5552656e84b6ac65",
     "locked": true,
     "points": 0,
     "schema_version": 3,
     "solution": false,
     "task": false
    }
   },
   "outputs": [],
   "source": [
    "## PLEASE DO NOT EDIT THIS CELL\n",
    "\n",
    "from numpy.testing import assert_allclose\n",
    "\n",
    "# Test case 1\n",
    "X = np.array([[0., 1.], \n",
    "              [1., 2.],\n",
    "     [0., 1.], \n",
    "     [1., 2.]])\n",
    "expected_cov = np.array(\n",
    "    [[0.25, 0.25],\n",
    "    [0.25, 0.25]])\n",
    "\n",
    "assert_allclose(cov_naive(X), expected_cov, rtol=1e-5)\n",
    "\n",
    "# Test case 2\n",
    "X = np.array([[0., 1.], \n",
    "              [2., 3.]])\n",
    "expected_cov = np.array(\n",
    "    [[1., 1.],\n",
    "    [1., 1.]])\n",
    "\n",
    "assert_allclose(cov_naive(X), expected_cov, rtol=1e-5)\n",
    "\n",
    "# Test covariance is zero\n",
    "X = np.array([[0., 1.], \n",
    "              [0., 1.],\n",
    "              [0., 1.]])\n",
    "expected_cov = np.zeros((2, 2))\n",
    "\n",
    "assert_allclose(cov_naive(X), expected_cov, rtol=1e-5)"
   ]
  },
  {
   "cell_type": "code",
   "execution_count": 26,
   "metadata": {
    "nbgrader": {
     "grade": false,
     "grade_id": "cell-b8bc03c0194550b3",
     "locked": false,
     "schema_version": 3,
     "solution": true,
     "task": false
    }
   },
   "outputs": [],
   "source": [
    "# GRADED FUNCTION: DO NOT EDIT THIS LINE\n",
    "def cov(X):\n",
    "    \"\"\"Compute the sample covariance for a dataset.\n",
    "    \n",
    "    Args:\n",
    "        X: `ndarray` of shape (N, D) representing the dataset.\n",
    "        N is the size of the dataset (the number of data points) \n",
    "        and D is the dimensionality of each data point.\n",
    "    Returns:\n",
    "        ndarray: ndarray with shape (D, D), the sample covariance of the dataset `X`.\n",
    "    \"\"\"\n",
    "    # YOUR CODE HERE\n",
    "    \n",
    "    # It is possible to vectorize our code for computing the covariance with matrix multiplications,\n",
    "    # i.e., we do not need to explicitly\n",
    "    # iterate over the entire dataset as looping in Python tends to be slow\n",
    "    # We challenge you to give a vectorized implementation without using np.cov, but if you choose to use np.cov,\n",
    "    # be sure to pass in bias=True.\n",
    "    ### Uncomment and edit the code below\n",
    "    N, D = X.shape\n",
    "#     ### Edit the code to compute the covariance matrix\n",
    "    # covariance_matrix = np.zeros((D, D))\n",
    "#     ### Update covariance_matrix here\n",
    "    covariance_matrix = np.asmatrix(X-np.mean(X, axis=0)).T @ np.asmatrix(X-np.mean(X, axis=0))/N\n",
    "#     ###\n",
    "    return covariance_matrix"
   ]
  },
  {
   "cell_type": "code",
   "execution_count": 27,
   "metadata": {
    "nbgrader": {
     "grade": true,
     "grade_id": "cell-b8863e42cc6ca615",
     "locked": true,
     "points": 1,
     "schema_version": 3,
     "solution": false,
     "task": false
    }
   },
   "outputs": [],
   "source": [
    "## PLEASE DO NOT EDIT THIS CELL\n",
    "\n",
    "from numpy.testing import assert_allclose\n",
    "\n",
    "# Test case 1\n",
    "X = np.array([[0., 1.], \n",
    "              [1., 2.],\n",
    "     [0., 1.], \n",
    "     [1., 2.]])\n",
    "expected_cov = np.array(\n",
    "    [[0.25, 0.25],\n",
    "    [0.25, 0.25]])\n",
    "\n",
    "assert_allclose(cov(X), expected_cov, rtol=1e-5)\n",
    "\n",
    "# Test case 2\n",
    "X = np.array([[0., 1.], \n",
    "              [2., 3.]])\n",
    "expected_cov = np.array(\n",
    "    [[1., 1.],\n",
    "    [1., 1.]])\n",
    "\n",
    "assert_allclose(cov(X), expected_cov, rtol=1e-5)\n",
    "\n",
    "# Test covariance is zero\n",
    "X = np.array([[0., 1.], \n",
    "              [0., 1.],\n",
    "              [0., 1.]])\n",
    "expected_cov = np.zeros((2, 2))\n",
    "\n",
    "assert_allclose(cov(X), expected_cov, rtol=1e-5)\n",
    "\n",
    "### Some hidden tests below\n",
    "### ..."
   ]
  },
  {
   "cell_type": "markdown",
   "metadata": {},
   "source": [
    "With the `mean` function implemented, let's take a look at the _mean_ face of our dataset!"
   ]
  },
  {
   "cell_type": "code",
   "execution_count": 18,
   "metadata": {},
   "outputs": [
    {
     "data": {
      "image/png": "[encoded data removed]",
      "text/plain": [
       "<Figure size 640x480 with 1 Axes>"
      ]
     },
     "metadata": {},
     "output_type": "display_data"
    }
   ],
   "source": [
    "## PLEASE DO NOT EDIT THIS CELL\n",
    "\n",
    "def mean_face(faces):\n",
    "    return faces.mean(axis=0).reshape((64, 64))\n",
    "\n",
    "plt.imshow(mean_face(faces), cmap='gray');"
   ]
  },
  {
   "cell_type": "markdown",
   "metadata": {},
   "source": [
    "One of the advantage of writing vectorized code is speedup gained when working on larger dataset. Loops in Python\n",
    "are slow, and most of the time you want to utilise the fast native code provided by Numpy without explicitly using\n",
    "for loops. To put things into perspective, we can benchmark the two different implementation with the `%time` function\n",
    "in the following way:"
   ]
  },
  {
   "cell_type": "code",
   "execution_count": 28,
   "metadata": {},
   "outputs": [
    {
     "name": "stdout",
     "output_type": "stream",
     "text": [
      "CPU times: total: 0 ns\n",
      "Wall time: 1.06 ms\n",
      "CPU times: total: 0 ns\n",
      "Wall time: 376 μs\n"
     ]
    }
   ],
   "source": [
    "# We have some HUUUGE data matrix which we want to compute its mean\n",
    "X = np.random.randn(1000, 20)\n",
    "# Benchmarking time for computing mean\n",
    "%time mean_naive(X)\n",
    "%time mean(X)\n",
    "pass"
   ]
  },
  {
   "cell_type": "code",
   "execution_count": 29,
   "metadata": {},
   "outputs": [
    {
     "name": "stdout",
     "output_type": "stream",
     "text": [
      "CPU times: total: 0 ns\n",
      "Wall time: 13.2 ms\n",
      "CPU times: total: 0 ns\n",
      "Wall time: 800 μs\n"
     ]
    }
   ],
   "source": [
    "# Benchmarking time for computing covariance\n",
    "%time cov_naive(X)\n",
    "%time cov(X)\n",
    "pass"
   ]
  },
  {
   "cell_type": "markdown",
   "metadata": {},
   "source": [
    "## 2. Affine Transformation of Dataset\n",
    "In this week we are also going to verify a few properties about the mean and\n",
    "covariance of affine transformation of random variables.\n",
    "\n",
    "Consider a data matrix $X$ of size (N, D). We would like to know\n",
    "what is the covariance when we apply affine transformation $Ax_i + b$ for each datapoint $x_i$ in $X$. i.e.\n",
    "we would like to know what happens to the mean and covariance for the new dataset if we apply affine transformation."
   ]
  },
  {
   "cell_type": "code",
   "execution_count": 30,
   "metadata": {
    "nbgrader": {
     "grade": false,
     "grade_id": "cell-7d7b94efbb31d292",
     "locked": false,
     "schema_version": 3,
     "solution": true,
     "task": false
    }
   },
   "outputs": [],
   "source": [
    "# GRADED FUNCTION: DO NOT EDIT THIS LINE\n",
    "\n",
    "def affine_mean(mean, A, b):\n",
    "    \"\"\"Compute the mean after affine transformation\n",
    "    Args:\n",
    "        mean: `ndarray` of shape (D,), the sample mean vector for some dataset.\n",
    "        A, b: `ndarray` of shape (D, D) and (D,), affine transformation applied to x\n",
    "    Returns:\n",
    "        sample mean vector of shape (D,) after affine transformation.\n",
    "    \"\"\"\n",
    "    # YOUR CODE HERE\n",
    "    ### Uncomment and edit the code below\n",
    "#     ### Edit the code below to compute the mean vector after affine transformation\n",
    "    affine_m = np.zeros(mean.shape) # affine_m has shape (D,)\n",
    "#     ### Update affine_m\n",
    "    affine_m = A @ mean + b\n",
    "#     ###\n",
    "    return affine_m"
   ]
  },
  {
   "cell_type": "code",
   "execution_count": 42,
   "metadata": {
    "nbgrader": {
     "grade": false,
     "grade_id": "cell-dca2c9932c499a71",
     "locked": false,
     "schema_version": 3,
     "solution": true,
     "task": false
    }
   },
   "outputs": [],
   "source": [
    "# GRADED FUNCTION: DO NOT EDIT THIS LINE\n",
    "def affine_covariance(S, A, b):\n",
    "    \"\"\"Compute the covariance matrix after affine transformation\n",
    "    \n",
    "    Args:\n",
    "        S: `ndarray` of shape (D, D), the sample covariance matrix for some dataset.\n",
    "        A, b: `ndarray` of shape (D, D) and (D,), affine transformation applied to x\n",
    "    \n",
    "    Returns:\n",
    "        the sample covariance matrix of shape (D, D) after the transformation\n",
    "    \"\"\"\n",
    "    # YOUR CODE HERE\n",
    "    ### Uncomment and edit the code below\n",
    "    ### EDIT the code below to compute the covariance matrix after affine transformation\n",
    "    affine_cov = np.zeros(S.shape) # affine_cov has shape (D, D)\n",
    "#     ### Update affine_cov\n",
    "    affine_cov = A @ S @ A.T\n",
    "#     ###\n",
    "    return affine_cov"
   ]
  },
  {
   "cell_type": "code",
   "execution_count": 43,
   "metadata": {
    "nbgrader": {
     "grade": true,
     "grade_id": "cell-16cbecd7814fc682",
     "locked": true,
     "points": 1,
     "schema_version": 3,
     "solution": false,
     "task": false
    }
   },
   "outputs": [],
   "source": [
    "## PLEASE DO NOT EDIT THIS CELL\n",
    "\n",
    "from numpy.testing import assert_allclose\n",
    "\n",
    "A = np.array([[0, 1], [2, 3]])\n",
    "b = np.ones(2)\n",
    "m = np.full((2,), 2)\n",
    "S = np.eye(2)*2\n",
    "\n",
    "expected_affine_mean = np.array([ 3., 11.])\n",
    "expected_affine_cov = np.array(\n",
    "    [[ 2.,  6.],\n",
    "    [ 6., 26.]])\n",
    "\n",
    "assert_allclose(affine_mean(m, A, b), expected_affine_mean, rtol=1e-4)\n",
    "### Some hidden tests below\n",
    "### ..."
   ]
  },
  {
   "cell_type": "code",
   "execution_count": 44,
   "metadata": {
    "nbgrader": {
     "grade": true,
     "grade_id": "cell-7cea45ab7c99c90a",
     "locked": true,
     "points": 1,
     "schema_version": 3,
     "solution": false,
     "task": false
    }
   },
   "outputs": [],
   "source": [
    "## PLEASE DO NOT EDIT THIS CELL\n",
    "\n",
    "from numpy.testing import assert_allclose\n",
    "\n",
    "A = np.array([[0, 1], [2, 3]])\n",
    "b = np.ones(2)\n",
    "m = np.full((2,), 2)\n",
    "S = np.eye(2)*2\n",
    "\n",
    "expected_affine_cov = np.array(\n",
    "    [[ 2.,  6.],\n",
    "    [ 6., 26.]])\n",
    "\n",
    "assert_allclose(affine_covariance(S, A, b), \n",
    "                expected_affine_cov, rtol=1e-4)\n",
    "\n",
    "### Some hidden tests below\n",
    "### ..."
   ]
  },
  {
   "cell_type": "markdown",
   "metadata": {},
   "source": [
    "Once the two functions above are implemented, we can verify the correctness our implementation. Assuming that we have some $A$ and $b$."
   ]
  },
  {
   "cell_type": "code",
   "execution_count": 45,
   "metadata": {},
   "outputs": [],
   "source": [
    "random = np.random.RandomState(42)\n",
    "A = random.randn(4,4)\n",
    "b = random.randn(4)"
   ]
  },
  {
   "cell_type": "markdown",
   "metadata": {},
   "source": [
    "Next we can generate some random dataset $X$"
   ]
  },
  {
   "cell_type": "code",
   "execution_count": 46,
   "metadata": {},
   "outputs": [],
   "source": [
    "X = random.randn(100, 4)"
   ]
  },
  {
   "cell_type": "markdown",
   "metadata": {},
   "source": [
    "Assuming that for some dataset $X$, the mean and covariance are $m$, $S$, and for the new dataset after affine transformation $X'$, the mean and covariance are $m'$ and $S'$, then we would have the following identity:\n",
    "\n",
    "$$m' = \\text{affine\\_mean}(m, A, b)$$\n",
    "\n",
    "$$S' = \\text{affine\\_covariance}(S, A, b)$$"
   ]
  },
  {
   "cell_type": "code",
   "execution_count": 47,
   "metadata": {},
   "outputs": [],
   "source": [
    "X1 = ((A @ (X.T)).T + b)  # applying affine transformation once\n",
    "X2 = ((A @ (X1.T)).T + b) # twice"
   ]
  },
  {
   "cell_type": "markdown",
   "metadata": {},
   "source": [
    "One very useful way to compare whether arrays are equal/similar is use the helper functions\n",
    "in `numpy.testing`.\n",
    "\n",
    "Check the Numpy [documentation](https://docs.scipy.org/doc/numpy-1.13.0/reference/routines.testing.html)\n",
    "for details.\n",
    "\n",
    "If you are interested in learning more about floating point arithmetic, here is a good [paper](http://citeseerx.ist.psu.edu/viewdoc/summary?doi=10.1.1.22.6768)."
   ]
  },
  {
   "cell_type": "code",
   "execution_count": 48,
   "metadata": {},
   "outputs": [],
   "source": [
    "np.testing.assert_allclose(mean(X1), affine_mean(mean(X), A, b))\n",
    "np.testing.assert_allclose(cov(X1),  affine_covariance(cov(X), A, b))"
   ]
  },
  {
   "cell_type": "code",
   "execution_count": 49,
   "metadata": {},
   "outputs": [],
   "source": [
    "np.testing.assert_allclose(mean(X2), affine_mean(mean(X1), A, b))\n",
    "np.testing.assert_allclose(cov(X2),  affine_covariance(cov(X1), A, b))"
   ]
  }
 ],
 "metadata": {
  "coursera": {
   "course_slug": "mathematics-machine-learning-pca",
   "graded_item_id": "YoDq1",
   "launcher_item_id": "vCPZ0"
  },
  "interpreter": {
   "hash": "fa15421863e696996c586a7125639c86e606c31109b5cdd4c487ad3c1cbbc756"
  },
  "kernelspec": {
   "display_name": "Python 3",
   "language": "python",
   "name": "python3"
  },
  "language_info": {
   "codemirror_mode": {
    "name": "ipython",
    "version": 3
   },
   "file_extension": ".py",
   "mimetype": "text/x-python",
   "name": "python",
   "nbconvert_exporter": "python",
   "pygments_lexer": "ipython3",
   "version": "3.11.6"
  },
  "toc": {
   "base_numbering": 1,
   "nav_menu": {},
   "number_sections": true,
   "sideBar": true,
   "skip_h1_title": false,
   "title_cell": "Table of Contents",
   "title_sidebar": "Contents",
   "toc_cell": false,
   "toc_position": {},
   "toc_section_display": true,
   "toc_window_display": false
  }
 },
 "nbformat": 4,
 "nbformat_minor": 2
}
